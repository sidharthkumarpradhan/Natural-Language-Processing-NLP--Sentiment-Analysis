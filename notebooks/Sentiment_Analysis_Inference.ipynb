{
 "cells": [
  {
   "cell_type": "code",
   "execution_count": null,
   "metadata": {},
   "outputs": [],
   "source": [
    "# Sentiment_Analysis_Inference.ipynb\n",
    "\n",
    "# Import necessary libraries\n",
    "import torch\n",
    "from torchtext.data import data\n",
    "from sentiment_analysis_model import SentimentAnalysisModel\n",
    "\n",
    "# Initialize model\n",
    "model = SentimentAnalysisModel(len(TEXT.vocab), 100, 1, 256)\n",
    "model.load_state_dict(torch.load('saved_model.pt'))\n",
    "model.eval()\n",
    "\n",
    "# Inference function\n",
    "def predict_sentiment(model, tokenizer, text):\n",
    "    model.eval()\n",
    "    tokenized = tokenizer(text.lower())\n",
    "    indexed = [TEXT.vocab.stoi[token] for token in tokenized]\n",
    "    length = [len(indexed)]\n",
    "    tensor = torch.LongTensor(indexed).to(device)\n",
    "    tensor = tensor.unsqueeze(1)\n",
    "    length_tensor = torch.LongTensor(length)\n",
    "    prediction = torch.sigmoid(model(tensor, length_tensor))\n",
    "    return prediction.item()\n",
    "\n",
    "# Example usage\n",
    "text = \"This movie is fantastic!\"\n",
    "prediction = predict_sentiment(model, tokenizer, text)\n",
    "print(f\"Sentiment: {'Positive' if prediction > 0.5 else 'Negative'}, Confidence: {prediction:.4f}\")\n"
   ]
  }
 ],
 "metadata": {
  "language_info": {
   "name": "python"
  }
 },
 "nbformat": 4,
 "nbformat_minor": 2
}
